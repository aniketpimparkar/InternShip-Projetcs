{
 "cells": [
  {
   "cell_type": "markdown",
   "id": "217b6d94",
   "metadata": {},
   "source": [
    "# Solution to Que-1"
   ]
  },
  {
   "cell_type": "code",
   "execution_count": null,
   "id": "0d224c68",
   "metadata": {},
   "outputs": [],
   "source": [
    "! pip install selenium"
   ]
  },
  {
   "cell_type": "code",
   "execution_count": null,
   "id": "9fcee414",
   "metadata": {},
   "outputs": [],
   "source": [
    "import selenium\n",
    "import pandas as pd\n",
    "from selenium import webdriver\n",
    "import warnings\n",
    "warnings.filterwarnings(\"ignore\")\n",
    "import time\n",
    "\n",
    "# import all required linraries"
   ]
  },
  {
   "cell_type": "code",
   "execution_count": null,
   "id": "563ab60a",
   "metadata": {
    "scrolled": true
   },
   "outputs": [],
   "source": [
    "# connection to the web driver\n",
    "\n",
    "driver = webdriver.Chrome(r\"C:\\Users\\Lenovo\\Downloads\\chromedriver.exe\")"
   ]
  },
  {
   "cell_type": "code",
   "execution_count": null,
   "id": "bf71a1ad",
   "metadata": {},
   "outputs": [],
   "source": [
    "#driver.close()"
   ]
  },
  {
   "cell_type": "code",
   "execution_count": null,
   "id": "78354aec",
   "metadata": {},
   "outputs": [],
   "source": [
    "driver.get('https://www.naukri.com/')"
   ]
  },
  {
   "cell_type": "code",
   "execution_count": null,
   "id": "b9e1e1ff",
   "metadata": {},
   "outputs": [],
   "source": [
    "#finding element for job search bar\n",
    "\n",
    "search_field_designation=driver.find_element_by_class_name(\"suggestor-input\")\n",
    "search_field_designation.send_keys(\"Data Analyst\")\n",
    "search_field_location=driver.find_element_by_xpath('//*[@id=\"root\"]/div[2]/div[3]/div/div/div[3]/div/div/div/input')\n",
    "search_field_location.send_keys(\"Bangalore\")"
   ]
  },
  {
   "cell_type": "code",
   "execution_count": null,
   "id": "6d584502",
   "metadata": {},
   "outputs": [],
   "source": [
    "search_button=driver.find_element_by_xpath(\"/html/body/div/div[2]/div[3]/div/div/div[6]\")\n",
    "search_button.click()"
   ]
  },
  {
   "cell_type": "code",
   "execution_count": null,
   "id": "50d4a3a7",
   "metadata": {},
   "outputs": [],
   "source": [
    "# specififing the URL to scrape\n",
    "\n",
    "url=('https://www.naukri.com/data-analyst-jobs-in-bangalore-bengaluru?k=data%20analyst&l=bangalore%2Fbengaluru')"
   ]
  },
  {
   "cell_type": "code",
   "execution_count": null,
   "id": "9b6abb62",
   "metadata": {},
   "outputs": [],
   "source": [
    " # open web page with web driver\n",
    "driver.get(url)"
   ]
  },
  {
   "cell_type": "code",
   "execution_count": null,
   "id": "872a53e9",
   "metadata": {},
   "outputs": [],
   "source": [
    "job_titles=[]\n",
    "company_names=[]\n",
    "location=[]\n",
    "experiance=[]"
   ]
  },
  {
   "cell_type": "code",
   "execution_count": null,
   "id": "7f7fa624",
   "metadata": {},
   "outputs": [],
   "source": [
    "# extract job title tags\n",
    "titles_tags=driver.find_elements_by_xpath(\"//a[@class='title fw500 ellipsis']\")\n",
    "titles_tags[0:4]"
   ]
  },
  {
   "cell_type": "code",
   "execution_count": null,
   "id": "5615bc51",
   "metadata": {},
   "outputs": [],
   "source": [
    "for i in titles_tags:\n",
    "    title=i.text\n",
    "    job_titles.append(title)\n",
    "job_titles[0:4]"
   ]
  },
  {
   "cell_type": "code",
   "execution_count": null,
   "id": "8b059f31",
   "metadata": {},
   "outputs": [],
   "source": [
    "# extract company tags\n",
    "\n",
    "companies_tags=driver.find_elements_by_xpath(\"//a[@class='subTitle ellipsis fleft']\")\n",
    "companies_tags[0:4]"
   ]
  },
  {
   "cell_type": "code",
   "execution_count": null,
   "id": "d79b1aad",
   "metadata": {},
   "outputs": [],
   "source": [
    "for i in companies_tags:\n",
    "    company_name=i.text\n",
    "    company_names.append(company_name)\n",
    "company_names[0:4]"
   ]
  },
  {
   "cell_type": "code",
   "execution_count": null,
   "id": "7c69372d",
   "metadata": {},
   "outputs": [],
   "source": [
    "# extract experiance tags\n",
    "\n",
    "experiance_tags=driver.find_elements_by_xpath(\"//li[@class='fleft grey-text br2 placeHolderLi experience']/span[1]\")\n",
    "experiance_tags[0:4]"
   ]
  },
  {
   "cell_type": "code",
   "execution_count": null,
   "id": "d5b03c2f",
   "metadata": {},
   "outputs": [],
   "source": [
    "for i in experiance_tags:\n",
    "    experiance_=i.text\n",
    "    experiance.append(experiance_)\n",
    "experiance[0:4]"
   ]
  },
  {
   "cell_type": "code",
   "execution_count": null,
   "id": "244e6e2a",
   "metadata": {},
   "outputs": [],
   "source": [
    "location_tags=driver.find_elements_by_xpath(\"//li[@class='fleft grey-text br2 placeHolderLi location']/span[1]\")\n",
    "location_tags[0:4]"
   ]
  },
  {
   "cell_type": "code",
   "execution_count": null,
   "id": "8736e463",
   "metadata": {},
   "outputs": [],
   "source": [
    "for i in location_tags:\n",
    "    location_=i.text\n",
    "    location.append(location_)\n",
    "location[0:4]"
   ]
  },
  {
   "cell_type": "code",
   "execution_count": null,
   "id": "7a952f66",
   "metadata": {},
   "outputs": [],
   "source": [
    "print(len(location),len(experiance),len(company_names),len(job_titles))"
   ]
  },
  {
   "cell_type": "code",
   "execution_count": null,
   "id": "3f17b6ad",
   "metadata": {},
   "outputs": [],
   "source": [
    "job_list=pd.DataFrame({})\n",
    "job_list['Title']=job_titles\n",
    "job_list['Company']=company_names\n",
    "job_list['Experiance_Required']=experiance\n",
    "job_list['Location']=location"
   ]
  },
  {
   "cell_type": "code",
   "execution_count": null,
   "id": "9315c403",
   "metadata": {},
   "outputs": [],
   "source": [
    "job_list"
   ]
  },
  {
   "cell_type": "code",
   "execution_count": null,
   "id": "99ab5131",
   "metadata": {},
   "outputs": [],
   "source": [
    "# getting first 10 results for the web\n",
    "job_list.head(10)"
   ]
  },
  {
   "cell_type": "markdown",
   "id": "0b6d1aeb",
   "metadata": {},
   "source": [
    "# Solution to Que-2"
   ]
  },
  {
   "cell_type": "code",
   "execution_count": null,
   "id": "80874e65",
   "metadata": {},
   "outputs": [],
   "source": [
    "# Selenium is already install in the solution for Que-1 hence, did not write the code again.\n",
    "# all the required liberaries are already imported."
   ]
  },
  {
   "cell_type": "code",
   "execution_count": null,
   "id": "af173f1d",
   "metadata": {},
   "outputs": [],
   "source": [
    "# connection to the web driver\n",
    "\n",
    "driver = webdriver.Chrome(r\"C:\\Users\\Lenovo\\Downloads\\chromedriver.exe\")"
   ]
  },
  {
   "cell_type": "code",
   "execution_count": null,
   "id": "4162ccf1",
   "metadata": {},
   "outputs": [],
   "source": [
    "# get URL to be scraped\n",
    "driver.get('https://www.naukri.com/')"
   ]
  },
  {
   "cell_type": "code",
   "execution_count": null,
   "id": "7aa7a327",
   "metadata": {},
   "outputs": [],
   "source": [
    "#finding element for jiob search bar\n",
    "\n",
    "search_field_designation=driver.find_element_by_class_name(\"suggestor-input\")\n",
    "search_field_designation.send_keys(\"Data Analyst\")\n",
    "search_field_location=driver.find_element_by_xpath('//*[@id=\"root\"]/div[2]/div[3]/div/div/div[3]/div/div/div/input')\n",
    "search_field_location.send_keys(\"Bangalore\")"
   ]
  },
  {
   "cell_type": "code",
   "execution_count": null,
   "id": "71743f29",
   "metadata": {},
   "outputs": [],
   "source": [
    "# providing xpath for the search button\n",
    "\n",
    "search_button=driver.find_element_by_xpath(\"/html/body/div/div[2]/div[3]/div/div/div[6]\")\n",
    "search_button.click()"
   ]
  },
  {
   "cell_type": "code",
   "execution_count": null,
   "id": "de8d71a5",
   "metadata": {},
   "outputs": [],
   "source": [
    "# specififing the URL to scrape\n",
    "\n",
    "url=('https://www.naukri.com/data-analyst-jobs-in-bangalore-bengaluru?k=data%20analyst&l=bangalore%2Fbengaluru')"
   ]
  },
  {
   "cell_type": "code",
   "execution_count": null,
   "id": "9465ff35",
   "metadata": {},
   "outputs": [],
   "source": [
    "# creating the empty list\n",
    "\n",
    "job_titles=[]\n",
    "company_names=[]\n",
    "job_location=[]\n",
    "experiance=[]"
   ]
  },
  {
   "cell_type": "code",
   "execution_count": null,
   "id": "604f9fd9",
   "metadata": {},
   "outputs": [],
   "source": [
    "# extract job title tags\n",
    "titles_tags=driver.find_elements_by_xpath(\"//a[@class='title fw500 ellipsis']\")\n",
    "titles_tags[0:4]\n",
    "\n",
    "for i in titles_tags:\n",
    "    title=i.text\n",
    "    job_titles.append(title)\n",
    "job_titles[0:4]"
   ]
  },
  {
   "cell_type": "code",
   "execution_count": null,
   "id": "54face9f",
   "metadata": {},
   "outputs": [],
   "source": [
    "location_tags=driver.find_elements_by_xpath(\"//li[@class='fleft grey-text br2 placeHolderLi location']/span[1]\")\n",
    "location_tags[0:4]\n",
    "\n",
    "for i in location_tags:\n",
    "    location=i.text\n",
    "    job_location.append(location)\n",
    "job_location[0:4]"
   ]
  },
  {
   "cell_type": "code",
   "execution_count": null,
   "id": "781a2601",
   "metadata": {},
   "outputs": [],
   "source": [
    "# extract company tags\n",
    "\n",
    "companies_tags=driver.find_elements_by_xpath(\"//a[@class='subTitle ellipsis fleft']\")\n",
    "companies_tags[0:4]\n",
    "\n",
    "for i in companies_tags:\n",
    "    company_name=i.text\n",
    "    company_names.append(company_name)\n",
    "company_names[0:4]"
   ]
  },
  {
   "cell_type": "code",
   "execution_count": null,
   "id": "14cec8fc",
   "metadata": {},
   "outputs": [],
   "source": [
    "print(len(location),len(company_names),len(job_titles))"
   ]
  },
  {
   "cell_type": "code",
   "execution_count": null,
   "id": "ea618072",
   "metadata": {},
   "outputs": [],
   "source": [
    "job_list=pd.DataFrame({})\n",
    "job_list['Title']=job_titles\n",
    "job_list['Company']=company_names\n",
    "job_list['Location']=location"
   ]
  },
  {
   "cell_type": "code",
   "execution_count": null,
   "id": "01d34dc9",
   "metadata": {},
   "outputs": [],
   "source": [
    "# getting first 10 results for the web\n",
    "job_list.head(10)"
   ]
  },
  {
   "cell_type": "markdown",
   "id": "2f8ca706",
   "metadata": {},
   "source": [
    "## Solution to Que-3"
   ]
  },
  {
   "cell_type": "code",
   "execution_count": null,
   "id": "e4504755",
   "metadata": {},
   "outputs": [],
   "source": [
    "# Selenium is already install in the solution for Que-1 hence, did not write the code again.\n",
    "# all the required liberaries are already imported.\n",
    "\n",
    "# connection to the web driver\n",
    "driver = webdriver.Chrome(r\"C:\\Users\\Lenovo\\Downloads\\chromedriver.exe\")\n",
    "\n",
    "# getting the URL to be scrape\n",
    "driver.get('https://www.naukri.com/')\n",
    "\n",
    "# finding element on the web page\n",
    "\n",
    "search_field_designation=driver.find_element_by_class_name('suggestor-input')\n",
    "search_field_designation.send_keys(\"Data Scientist\")\n",
    "\n",
    "# clicking on the search button\n",
    "search_button=driver.find_element_by_xpath('/html/body/div/div[2]/div[3]/div/div/div[6]')\n",
    "search_button.click()\n",
    "\n",
    "#clicking on the location filter on the page\n",
    "\n",
    "search_field_location=driver.find_element_by_xpath('/html/body/div[1]/div[3]/div[2]/section[1]/div[2]/div[4]/div[2]/div[3]/label/i')\n",
    "search_field_location.click()\n",
    "\n",
    "# clicking on the salary filter on the page\n",
    "\n",
    "search_field_salary=driver.find_element_by_xpath('/html/body/div[1]/div[3]/div[2]/section[1]/div[2]/div[5]/div[2]/div[3]/label/i')\n",
    "search_field_salary.click()\n",
    "\n",
    "# creating the empty list\n",
    "\n",
    "job_titles=[]\n",
    "company_names=[]\n",
    "job_location=[]\n",
    "experiance=[]\n",
    "\n",
    "# extracting the job title tags\n",
    "\n",
    "titles_tags=driver.find_elements_by_xpath(\"//a[@class='title fw500 ellipsis']\")\n",
    "titles_tags[0:2]\n",
    "\n",
    "for i in titles_tags:\n",
    "    title=i.text\n",
    "    job_titles.append(title)\n",
    "job_titles[0:10]\n",
    "\n",
    "# extracting company names\n",
    "\n",
    "company_names_tags=driver.find_elements_by_xpath(\"//a[@class='subTitle ellipsis fleft']\")\n",
    "company_names_tags[0:2]\n",
    "\n",
    "for i in company_names_tags:\n",
    "    companyname=i.text\n",
    "    company_names.append(companyname)\n",
    "company_names[0:10]\n",
    "\n",
    "# extracting job location\n",
    "\n",
    "location_tags=driver.find_elements_by_xpath(\"//li[@class='fleft grey-text br2 placeHolderLi location']/span[1]\")\n",
    "location_tags[0:2]\n",
    "\n",
    "for i in location_tags:\n",
    "    location_=i.text\n",
    "    job_location.append(location_)\n",
    "job_location[0:10]\n",
    "\n",
    "# extracting job experiance\n",
    "\n",
    "experiance_tags=driver.find_elements_by_xpath(\"//li[@class='fleft grey-text br2 placeHolderLi experience']/span[1]\")\n",
    "experiance_tags[0:4]\n",
    "\n",
    "for i in experiance_tags:\n",
    "    jobexperiance=i.text\n",
    "    experiance.append(jobexperiance)\n",
    "experiance[0:10]\n",
    "\n",
    "# checking the length on the data\n",
    "\n",
    "print(len(job_location),len(experiance),len(company_names),len(job_titles))\n",
    "\n",
    "# preparing dataframe\n",
    "\n",
    "df=pd.DataFrame({})\n",
    "df['Title']=job_titles\n",
    "df['Company']=company_names\n",
    "df['Location']=job_location\n",
    "df['Experiance']=experiance\n",
    "\n",
    "#printing first 10 elelment\n",
    "\n",
    "df.head(10)"
   ]
  },
  {
   "cell_type": "markdown",
   "id": "842ea852",
   "metadata": {},
   "source": [
    "# Solution to Que-4"
   ]
  },
  {
   "cell_type": "code",
   "execution_count": null,
   "id": "bcd7d261",
   "metadata": {},
   "outputs": [],
   "source": []
  }
 ],
 "metadata": {
  "kernelspec": {
   "display_name": "Python 3",
   "language": "python",
   "name": "python3"
  },
  "language_info": {
   "codemirror_mode": {
    "name": "ipython",
    "version": 3
   },
   "file_extension": ".py",
   "mimetype": "text/x-python",
   "name": "python",
   "nbconvert_exporter": "python",
   "pygments_lexer": "ipython3",
   "version": "3.8.8"
  }
 },
 "nbformat": 4,
 "nbformat_minor": 5
}
